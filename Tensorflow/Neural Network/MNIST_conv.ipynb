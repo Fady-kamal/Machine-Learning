{
 "cells": [
  {
   "cell_type": "code",
   "execution_count": 1,
   "metadata": {},
   "outputs": [],
   "source": [
    "import tensorflow as tf "
   ]
  },
  {
   "cell_type": "code",
   "execution_count": 2,
   "metadata": {},
   "outputs": [],
   "source": [
    "import numpy as np "
   ]
  },
  {
   "cell_type": "code",
   "execution_count": 17,
   "metadata": {},
   "outputs": [],
   "source": [
    "# GRADED FUNCTION: train_mnist_conv\n",
    "def train_mnist_conv():\n",
    "    # Please write your code only where you are indicated.\n",
    "    # please do not remove model fitting inline comments.\n",
    "\n",
    "    # YOUR CODE STARTS HERE\n",
    "    class Callback(tf.keras.callbacks.Callback):\n",
    "        def on_epoch_end(self, epoch, logs={}):\n",
    "            if(logs.get('acc')>0.998):\n",
    "                print(\"\\nReached 99.8% accuracy so cancelling training!\")\n",
    "                self.model.stop_training = True\n",
    "    # YOUR CODE ENDS HERE\n",
    "\n",
    "    mnist = tf.keras.datasets.mnist\n",
    "    (training_images, training_labels), (test_images, test_labels) = mnist.load_data(path=path)\n",
    "    # YOUR CODE STARTS HERE\n",
    "    training_images = training_images/255.0\n",
    "    test_images = test_images/255.0\n",
    "    training_images = training_images.reshape(60000, 28, 28, 1)\n",
    "    test_images = test_images.reshape(10000, 28, 28, 1)\n",
    "    callback = Callback()\n",
    "    # YOUR CODE ENDS HERE\n",
    "\n",
    "    model = tf.keras.Sequential([\n",
    " tf.keras.layers.Conv2D(64, (3, 3), activation='relu', input_shape=(28, 28, 1)),\n",
    " tf.keras.layers.MaxPooling2D(2, 2),\n",
    " tf.keras.layers.Flatten(),\n",
    " tf.keras.layers.Dense(128, activation='relu'),\n",
    " tf.keras.layers.Dense(10, activation='softmax')\n",
    " ])\n",
    "\n",
    "\n",
    "    model.compile(optimizer='adam', loss='sparse_categorical_crossentropy', metrics=['accuracy'])\n",
    "    # model fitting\n",
    "    history = model.fit(training_images, training_labels, epochs = 20, callbacks = [callback])\n",
    "    # model fitting\n",
    "    return history.epoch, history.history['acc'][-1]"
   ]
  },
  {
   "cell_type": "code",
   "execution_count": 18,
   "metadata": {},
   "outputs": [
    {
     "name": "stdout",
     "output_type": "stream",
     "text": [
      "Epoch 1/20\n",
      "1875/1875 [==============================] - 22s 12ms/step - loss: 0.1379 - accuracy: 0.9590\n",
      "Epoch 2/20\n",
      "1875/1875 [==============================] - 22s 12ms/step - loss: 0.0475 - accuracy: 0.9848\n",
      "Epoch 3/20\n",
      "1875/1875 [==============================] - 22s 12ms/step - loss: 0.0290 - accuracy: 0.9909\n",
      "Epoch 4/20\n",
      "1875/1875 [==============================] - 22s 12ms/step - loss: 0.0187 - accuracy: 0.9941\n",
      "Epoch 5/20\n",
      "1875/1875 [==============================] - 22s 12ms/step - loss: 0.0122 - accuracy: 0.9961\n",
      "Epoch 6/20\n",
      "1875/1875 [==============================] - 22s 12ms/step - loss: 0.0090 - accuracy: 0.9969\n",
      "Epoch 7/20\n",
      "1875/1875 [==============================] - 22s 11ms/step - loss: 0.0064 - accuracy: 0.9979\n",
      "Epoch 8/20\n",
      "1875/1875 [==============================] - 22s 12ms/step - loss: 0.0056 - accuracy: 0.9981\n",
      "Epoch 9/20\n",
      "1875/1875 [==============================] - 23s 12ms/step - loss: 0.0047 - accuracy: 0.9984\n",
      "Epoch 10/20\n",
      "1875/1875 [==============================] - 22s 12ms/step - loss: 0.0044 - accuracy: 0.9987\n",
      "Epoch 11/20\n",
      "1875/1875 [==============================] - 21s 11ms/step - loss: 0.0045 - accuracy: 0.9983\n",
      "Epoch 12/20\n",
      "1875/1875 [==============================] - 22s 12ms/step - loss: 0.0031 - accuracy: 0.9990\n",
      "Epoch 13/20\n",
      "1875/1875 [==============================] - 23s 12ms/step - loss: 0.0023 - accuracy: 0.9993\n",
      "Epoch 14/20\n",
      "1875/1875 [==============================] - 22s 12ms/step - loss: 0.0038 - accuracy: 0.9990\n",
      "Epoch 15/20\n",
      "1875/1875 [==============================] - 22s 12ms/step - loss: 0.0023 - accuracy: 0.9993\n",
      "Epoch 16/20\n",
      "1875/1875 [==============================] - 22s 12ms/step - loss: 0.0036 - accuracy: 0.9989\n",
      "Epoch 17/20\n",
      "1875/1875 [==============================] - 22s 12ms/step - loss: 0.0021 - accuracy: 0.9995\n",
      "Epoch 18/20\n",
      "1875/1875 [==============================] - 23s 12ms/step - loss: 0.0032 - accuracy: 0.9988\n",
      "Epoch 19/20\n",
      "1875/1875 [==============================] - 23s 12ms/step - loss: 0.0023 - accuracy: 0.9992\n",
      "Epoch 20/20\n",
      "1875/1875 [==============================] - 22s 12ms/step - loss: 0.0020 - accuracy: 0.9993\n"
     ]
    }
   ],
   "source": [
    "epoch , accuracy = train_mnist()"
   ]
  },
  {
   "cell_type": "code",
   "execution_count": 19,
   "metadata": {},
   "outputs": [
    {
     "data": {
      "text/plain": [
       "[0, 1, 2, 3, 4, 5, 6, 7, 8, 9, 10, 11, 12, 13, 14, 15, 16, 17, 18, 19]"
      ]
     },
     "execution_count": 19,
     "metadata": {},
     "output_type": "execute_result"
    }
   ],
   "source": [
    "epoch"
   ]
  },
  {
   "cell_type": "code",
   "execution_count": null,
   "metadata": {},
   "outputs": [],
   "source": []
  }
 ],
 "metadata": {
  "kernelspec": {
   "display_name": "Python 3",
   "language": "python",
   "name": "python3"
  },
  "language_info": {
   "codemirror_mode": {
    "name": "ipython",
    "version": 3
   },
   "file_extension": ".py",
   "mimetype": "text/x-python",
   "name": "python",
   "nbconvert_exporter": "python",
   "pygments_lexer": "ipython3",
   "version": "3.8.3"
  }
 },
 "nbformat": 4,
 "nbformat_minor": 4
}
