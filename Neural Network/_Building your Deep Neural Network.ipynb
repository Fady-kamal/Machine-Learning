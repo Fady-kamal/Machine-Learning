{
 "cells": [
  {
   "cell_type": "markdown",
   "metadata": {},
   "source": [
    "In this lab, we will build a deep neural network from scratch with as many layers as you want.\n",
    "\n",
    "<img src = \"https://i.imgur.com/p0Jv0Rq.png\" >\n",
    "\n",
    "<b>Neural Network</b> are built out of neural nets , originally inspired by human neurons but now simply an abstract computational tool. <b>Neural Network</b> is one of the best computational tool for large scale problems that offer sufficient data to learn features automatically as it is computationally cheap compared to tradional models.\n",
    "\n",
    "<br>\n",
    "\n",
    "# Outline\n",
    "\n",
    "* [Import Functions, and Libraries](#1)\n",
    "* [Helper Functions and Test cases and Test cases](#2)\n",
    "* [Initialization](#3)\n",
    " * [ 2-layer Neural Network](#3.1)\n",
    " * [L-Layer Model](#3.2)\n",
    "* [Forward propagation module](#4)\n",
    " * [Linear Forward For a Single Layer](#4.1)\n",
    " * [Linear-Activation Forward For a Single Layer](#4.2)\n",
    " * [linear Pass](#4.3)\n",
    " * [Cost Function](#5)\n",
    "* [Backward propagation module ](#6)\n",
    " * [Linear backward For a Single Layer](#6.1)\n",
    " * [Linear-Activation Backward For a Single Layer](#6.2)\n",
    " * [Backward Pass](#6.3)\n",
    " * [Update Parameters ](#6.4)\n",
    "* [Predict](#6.5)\n",
    "* [Print Mislabeled Images](#6.6)\n",
    "* [Application ](#7)\n",
    "  * [Load Data ](#7.1)\n",
    "  * [Split the Data Into Train And Test Sets](#7.2)\n",
    "  * [Architecture of The Model ](#7.3)\n",
    "   * [2-Layer Neural Network](#7.31)\n",
    "  * [Updating The Parameters ](#8)\n",
    "  * [Computing The Accuracy](#9)"
   ]
  },
  {
   "cell_type": "markdown",
   "metadata": {},
   "source": [
    "# Import Functions, and Libraries <a anchor = \"anchor\" id = \"1\"></a>"
   ]
  },
  {
   "cell_type": "code",
   "execution_count": 245,
   "metadata": {},
   "outputs": [],
   "source": [
    "#import the necessary libraries \n",
    "import pandas as pd\n",
    "import numpy as np \n",
    "import matplotlib.pyplot as plt \n",
    "import cv2 \n",
    "import os \n",
    "import random "
   ]
  },
  {
   "cell_type": "markdown",
   "metadata": {},
   "source": [
    "# Helper Functions and Test cases  <a anchor = \"anchor\" id = \"2\"></a>\n",
    "\n",
    "<br>\n",
    "\n",
    "### Helper Fuctions\n",
    "\n",
    "Helper Functions provide some important functions for this notebook"
   ]
  },
  {
   "cell_type": "code",
   "execution_count": 246,
   "metadata": {},
   "outputs": [],
   "source": [
    "def sigmoid(Z):\n",
    "    '''\n",
    "    Usage:\n",
    "      #sigmoid --> computes the value of the sigmoid function given Z\n",
    "  \n",
    "    \n",
    "    Arguments:\n",
    "      #Z --> numpy array of any shape\n",
    "    \n",
    "    Returns:\n",
    "      #A --> the output of sigmoid(Z) with the same shape as Z\n",
    "      #cache --> returns Z as well but it useful during back propagation\n",
    "    '''\n",
    "    \n",
    "    A = 1/(1+ np.exp(-Z))\n",
    "    \n",
    "    cache = Z \n",
    "    \n",
    "    return A, Z"
   ]
  },
  {
   "cell_type": "code",
   "execution_count": 247,
   "metadata": {},
   "outputs": [],
   "source": [
    "def sigmoid_backward(dA, cache):\n",
    "    '''\n",
    "    Usage:\n",
    "      #sigmoid_backward --> used to implement the backward propagation for a single sigmoid unit.\n",
    "  \n",
    "    \n",
    "    Arguments:\n",
    "      #dA --> post-activation gradient, of any shape\n",
    "      #cache --> 'Z' where we store for computing backward propagation efficiently\n",
    "    \n",
    "    Returns:\n",
    "      #dZ --> gradient of the cost with respect to Z\n",
    "    '''\n",
    "    Z = cache \n",
    "    \n",
    "    s = 1 / (1 + np.exp(-Z))\n",
    "    dZ = dA * (1 - s) * s\n",
    "    \n",
    "    #if the condition is false , the assert function will stop the program and throw an assertion error\n",
    "    assert(dZ.shape == Z.shape)\n",
    "    \n",
    "    return dZ"
   ]
  },
  {
   "cell_type": "code",
   "execution_count": 248,
   "metadata": {},
   "outputs": [],
   "source": [
    "def relu(Z):\n",
    "    '''\n",
    "    Usage:\n",
    "      #relu --> computes the value of the ReLU function given Z\n",
    "  \n",
    "    \n",
    "    Arguments:\n",
    "      #Z --> an output of the linear layer, of any shape\n",
    "    \n",
    "    Returns:\n",
    "      #A --> the output of relu(Z) with the same shape as Z\n",
    "      #cache --> a python dictionary containing \"A\" which is  useful during back propagation\n",
    "    '''\n",
    "    \n",
    "    A = np.maximum(Z,0)\n",
    "    \n",
    "    #if the condition is false , the assert function will stop the program and throw an assertion error\n",
    "    assert(A.shape == Z.shape)\n",
    "    \n",
    "    cache = Z\n",
    "    \n",
    "    return A, Z "
   ]
  },
  {
   "cell_type": "code",
   "execution_count": 249,
   "metadata": {},
   "outputs": [],
   "source": [
    "def relu_backward(dA, cache):\n",
    "    '''\n",
    "    Usage:\n",
    "      #relu_backward --> used to implement the backward propagation for a single RELU unit.\n",
    "  \n",
    "    \n",
    "    Arguments:\n",
    "      #dA --> post-activation gradient, of any shape\n",
    "      #cache --> 'Z' where we store for computing backward propagation efficiently\n",
    "    \n",
    "    Returns:\n",
    "      #dZ --> gradient of the cost with respect to Z\n",
    "    '''\n",
    "    \n",
    "    Z = cache\n",
    "    \n",
    "    #convert dZ to a correct object \n",
    "    dZ = np.array(dA)\n",
    "    \n",
    "    # When z <= 0, you should set dz to 0 as well.\n",
    "    dZ[Z <= 0] = 0\n",
    "    \n",
    "    #if the condition is false , the assert function will stop the program and throw an assertion error\n",
    "    assert(dZ.shape == Z.shape)\n",
    "    \n",
    "    \n",
    "    return dZ"
   ]
  },
  {
   "cell_type": "markdown",
   "metadata": {},
   "source": [
    "### Test Cases\n",
    "\n",
    "Test Cases provide some test cases to assess the correctness of your functions"
   ]
  },
  {
   "cell_type": "code",
   "execution_count": 250,
   "metadata": {},
   "outputs": [],
   "source": [
    "def linear_forward_test_case():\n",
    "    np.random.seed(1)\n",
    "    \"\"\"\n",
    "    X = np.array([[-1.02387576, 1.12397796],\n",
    " [-1.62328545, 0.64667545],\n",
    " [-1.74314104, -0.59664964]])\n",
    "    W = np.array([[ 0.74505627, 1.97611078, -1.24412333]])\n",
    "    b = np.array([[1]])\n",
    "    \"\"\"\n",
    "    A = np.random.randn(3,2)\n",
    "    W = np.random.randn(1,3)\n",
    "    b = np.random.randn(1,1)\n",
    "    \n",
    "    return A, W, b"
   ]
  },
  {
   "cell_type": "code",
   "execution_count": 251,
   "metadata": {},
   "outputs": [],
   "source": [
    "def linear_activation_forward_test_case():\n",
    "    \"\"\"\n",
    "    X = np.array([[-1.02387576, 1.12397796],\n",
    " [-1.62328545, 0.64667545],\n",
    " [-1.74314104, -0.59664964]])\n",
    "    W = np.array([[ 0.74505627, 1.97611078, -1.24412333]])\n",
    "    b = 5\n",
    "    \"\"\"\n",
    "    np.random.seed(2)\n",
    "    A_prev = np.random.randn(3,2)\n",
    "    W = np.random.randn(1,3)\n",
    "    b = np.random.randn(1,1)\n",
    "    return A_prev, W, b"
   ]
  },
  {
   "cell_type": "code",
   "execution_count": 252,
   "metadata": {},
   "outputs": [],
   "source": [
    "def L_model_forward_test_case():\n",
    "    \"\"\"\n",
    "    X = np.array([[-1.02387576, 1.12397796],\n",
    " [-1.62328545, 0.64667545],\n",
    " [-1.74314104, -0.59664964]])\n",
    "    parameters = {'W1': np.array([[ 1.62434536, -0.61175641, -0.52817175],\n",
    "        [-1.07296862,  0.86540763, -2.3015387 ]]),\n",
    " 'W2': np.array([[ 1.74481176, -0.7612069 ]]),\n",
    " 'b1': np.array([[ 0.],\n",
    "        [ 0.]]),\n",
    " 'b2': np.array([[ 0.]])}\n",
    "    \"\"\"\n",
    "    np.random.seed(1)\n",
    "    X = np.random.randn(4,2)\n",
    "    W1 = np.random.randn(3,4)\n",
    "    b1 = np.random.randn(3,1)\n",
    "    W2 = np.random.randn(1,3)\n",
    "    b2 = np.random.randn(1,1)\n",
    "    parameters = {\"W1\": W1,\n",
    "                  \"b1\": b1,\n",
    "                  \"W2\": W2,\n",
    "                  \"b2\": b2}\n",
    "    \n",
    "    return X, parameters"
   ]
  },
  {
   "cell_type": "code",
   "execution_count": 253,
   "metadata": {},
   "outputs": [],
   "source": [
    "def compute_cost_test_case():\n",
    "    Y = np.asarray([[1, 1, 1]])\n",
    "    aL = np.array([[.8,.9,0.4]])\n",
    "    \n",
    "    return Y, aL"
   ]
  },
  {
   "cell_type": "code",
   "execution_count": 254,
   "metadata": {},
   "outputs": [],
   "source": [
    "def linear_backward_test_case():\n",
    "    \"\"\"\n",
    "    z, linear_cache = (np.array([[-0.8019545 ,  3.85763489]]), (np.array([[-1.02387576,  1.12397796],\n",
    "       [-1.62328545,  0.64667545],\n",
    "       [-1.74314104, -0.59664964]]), np.array([[ 0.74505627,  1.97611078, -1.24412333]]), np.array([[1]]))\n",
    "    \"\"\"\n",
    "    np.random.seed(1)\n",
    "    dZ = np.random.randn(1,2)\n",
    "    A = np.random.randn(3,2)\n",
    "    W = np.random.randn(1,3)\n",
    "    b = np.random.randn(1,1)\n",
    "    linear_cache = (A, W, b)\n",
    "    return dZ, linear_cache"
   ]
  },
  {
   "cell_type": "code",
   "execution_count": 255,
   "metadata": {},
   "outputs": [],
   "source": [
    "def linear_activation_backward_test_case():\n",
    "    \"\"\"\n",
    "    aL, linear_activation_cache = (np.array([[ 3.1980455 ,  7.85763489]]), ((np.array([[-1.02387576,  1.12397796], [-1.62328545,  0.64667545], [-1.74314104, -0.59664964]]), np.array([[ 0.74505627,  1.97611078, -1.24412333]]), 5), np.array([[ 3.1980455 ,  7.85763489]])))\n",
    "    \"\"\"\n",
    "    np.random.seed(2)\n",
    "    dA = np.random.randn(1,2)\n",
    "    A = np.random.randn(3,2)\n",
    "    W = np.random.randn(1,3)\n",
    "    b = np.random.randn(1,1)\n",
    "    Z = np.random.randn(1,2)\n",
    "    linear_cache = (A, W, b)\n",
    "    activation_cache = Z\n",
    "    linear_activation_cache = (linear_cache, activation_cache)\n",
    "    \n",
    "    return dA, linear_activation_cache"
   ]
  },
  {
   "cell_type": "code",
   "execution_count": 256,
   "metadata": {},
   "outputs": [],
   "source": [
    "def L_model_backward_test_case():\n",
    "    \"\"\"\n",
    "    X = np.random.rand(3,2)\n",
    "    Y = np.array([[1, 1]])\n",
    "    parameters = {'W1': np.array([[ 1.78862847,  0.43650985,  0.09649747]]), 'b1': np.array([[ 0.]])}\n",
    "    aL, caches = (np.array([[ 0.60298372,  0.87182628]]), [((np.array([[ 0.20445225,  0.87811744],\n",
    "           [ 0.02738759,  0.67046751],\n",
    "           [ 0.4173048 ,  0.55868983]]),\n",
    "    np.array([[ 1.78862847,  0.43650985,  0.09649747]]),\n",
    "    np.array([[ 0.]])),\n",
    "   np.array([[ 0.41791293,  1.91720367]]))])\n",
    "   \"\"\"\n",
    "    np.random.seed(3)\n",
    "    AL = np.random.randn(1, 2)\n",
    "    Y = np.array([[1, 0]])\n",
    "\n",
    "    A1 = np.random.randn(4,2)\n",
    "    W1 = np.random.randn(3,4)\n",
    "    b1 = np.random.randn(3,1)\n",
    "    Z1 = np.random.randn(3,2)\n",
    "    linear_cache_activation_1 = ((A1, W1, b1), Z1)\n",
    "\n",
    "    A2 = np.random.randn(3,2)\n",
    "    W2 = np.random.randn(1,3)\n",
    "    b2 = np.random.randn(1,1)\n",
    "    Z2 = np.random.randn(1,2)\n",
    "    linear_cache_activation_2 = ((A2, W2, b2), Z2)\n",
    "\n",
    "    caches = (linear_cache_activation_1, linear_cache_activation_2)\n",
    "\n",
    "    return AL, Y, caches"
   ]
  },
  {
   "cell_type": "code",
   "execution_count": 257,
   "metadata": {},
   "outputs": [],
   "source": [
    "def update_parameters_test_case():\n",
    "    \"\"\"\n",
    "    parameters = {'W1': np.array([[ 1.78862847,  0.43650985,  0.09649747],\n",
    "        [-1.8634927 , -0.2773882 , -0.35475898],\n",
    "        [-0.08274148, -0.62700068, -0.04381817],\n",
    "        [-0.47721803, -1.31386475,  0.88462238]]),\n",
    " 'W2': np.array([[ 0.88131804,  1.70957306,  0.05003364, -0.40467741],\n",
    "        [-0.54535995, -1.54647732,  0.98236743, -1.10106763],\n",
    "        [-1.18504653, -0.2056499 ,  1.48614836,  0.23671627]]),\n",
    " 'W3': np.array([[-1.02378514, -0.7129932 ,  0.62524497],\n",
    "        [-0.16051336, -0.76883635, -0.23003072]]),\n",
    " 'b1': np.array([[ 0.],\n",
    "        [ 0.],\n",
    "        [ 0.],\n",
    "        [ 0.]]),\n",
    " 'b2': np.array([[ 0.],\n",
    "        [ 0.],\n",
    "        [ 0.]]),\n",
    " 'b3': np.array([[ 0.],\n",
    "        [ 0.]])}\n",
    "    grads = {'dW1': np.array([[ 0.63070583,  0.66482653,  0.18308507],\n",
    "        [ 0.        ,  0.        ,  0.        ],\n",
    "        [ 0.        ,  0.        ,  0.        ],\n",
    "        [ 0.        ,  0.        ,  0.        ]]),\n",
    " 'dW2': np.array([[ 1.62934255,  0.        ,  0.        ,  0.        ],\n",
    "        [ 0.        ,  0.        ,  0.        ,  0.        ],\n",
    "        [ 0.        ,  0.        ,  0.        ,  0.        ]]),\n",
    " 'dW3': np.array([[-1.40260776,  0.        ,  0.        ]]),\n",
    " 'da1': np.array([[ 0.70760786,  0.65063504],\n",
    "        [ 0.17268975,  0.15878569],\n",
    "        [ 0.03817582,  0.03510211]]),\n",
    " 'da2': np.array([[ 0.39561478,  0.36376198],\n",
    "        [ 0.7674101 ,  0.70562233],\n",
    "        [ 0.0224596 ,  0.02065127],\n",
    "        [-0.18165561, -0.16702967]]),\n",
    " 'da3': np.array([[ 0.44888991,  0.41274769],\n",
    "        [ 0.31261975,  0.28744927],\n",
    "        [-0.27414557, -0.25207283]]),\n",
    " 'db1': 0.75937676204411464,\n",
    " 'db2': 0.86163759922811056,\n",
    " 'db3': -0.84161956022334572}\n",
    "    \"\"\"\n",
    "    np.random.seed(2)\n",
    "    W1 = np.random.randn(3,4)\n",
    "    b1 = np.random.randn(3,1)\n",
    "    W2 = np.random.randn(1,3)\n",
    "    b2 = np.random.randn(1,1)\n",
    "    parameters = {\"W1\": W1,\n",
    "                  \"b1\": b1,\n",
    "                  \"W2\": W2,\n",
    "                  \"b2\": b2}\n",
    "    np.random.seed(3)\n",
    "    dW1 = np.random.randn(3,4)\n",
    "    db1 = np.random.randn(3,1)\n",
    "    dW2 = np.random.randn(1,3)\n",
    "    db2 = np.random.randn(1,1)\n",
    "    grads = {\"dW1\": dW1,\n",
    "             \"db1\": db1,\n",
    "             \"dW2\": dW2,\n",
    "             \"db2\": db2}\n",
    "    \n",
    "    return parameters, grads"
   ]
  },
  {
   "cell_type": "code",
   "execution_count": 258,
   "metadata": {},
   "outputs": [],
   "source": [
    "def L_model_forward_test_case_2hidden():\n",
    "    np.random.seed(6)\n",
    "    X = np.random.randn(5,4)\n",
    "    W1 = np.random.randn(4,5)\n",
    "    b1 = np.random.randn(4,1)\n",
    "    W2 = np.random.randn(3,4)\n",
    "    b2 = np.random.randn(3,1)\n",
    "    W3 = np.random.randn(1,3)\n",
    "    b3 = np.random.randn(1,1)\n",
    "  \n",
    "    parameters = {\"W1\": W1,\n",
    "                  \"b1\": b1,\n",
    "                  \"W2\": W2,\n",
    "                  \"b2\": b2,\n",
    "                  \"W3\": W3,\n",
    "                  \"b3\": b3}\n",
    "    \n",
    "    return X, parameters"
   ]
  },
  {
   "cell_type": "code",
   "execution_count": 259,
   "metadata": {},
   "outputs": [],
   "source": [
    "def print_grads(grads):\n",
    "    print (\"dW1 = \"+ str(grads[\"dW1\"]))\n",
    "    print (\"db1 = \"+ str(grads[\"db1\"]))\n",
    "    print (\"dA1 = \"+ str(grads[\"dA1\"]))"
   ]
  },
  {
   "cell_type": "markdown",
   "metadata": {},
   "source": [
    "<br>\n",
    "\n",
    "# Initialization  <a anchor = \"anchor\" id = \"3\"></a>\n",
    "\n",
    "You will write two helper functions that will initialize the parameters for your model. The first function will be used to initialize parameters for a two layer model. The second one will generalize this initialization process to $L$ layers.\n",
    "\n",
    "## 2-layer Neural Network <a anchor = \"anchor\" id = \"3.1\"></a>\n",
    "\n",
    "\n",
    "the structure of the model: \n",
    "$$ Linear \\to  ReLU \\to  Linear \\to Sigmoid$$"
   ]
  },
  {
   "cell_type": "code",
   "execution_count": 297,
   "metadata": {},
   "outputs": [],
   "source": [
    "def initialize_parameters(n_x, n_h, n_y):\n",
    "    '''\n",
    "    Usage:\n",
    "      #intialize_parameters --> used to randomly initialize the parameters of 2-Layer neural network\n",
    "  \n",
    "    \n",
    "    Arguments:\n",
    "      #n_x --> the size of the input layer \n",
    "      #n_h --> the size of the hidden layer\n",
    "      #n_y --> the size of the output layer\n",
    "    \n",
    "    Returns:\n",
    "      #parameters -->  python dictionary containing your parameters:\n",
    "                       W1 -- weight matrix of shape (n_h, n_x)\n",
    "                       b1 -- bias vector of shape (n_h, 1)\n",
    "                       W2 -- weight matrix of shape (n_y, n_h)\n",
    "                       b2 -- bias vector of shape (n_y, 1)\n",
    "    '''\n",
    "    \n",
    "    np.random.seed(1)\n",
    "    \n",
    "    #Randomly initialize the parameters\n",
    "    W1 = np.random.randn(n_h, n_x) * 0.001\n",
    "    b1 = np.zeros((n_h, 1))\n",
    "    W2 = np.random.randn(n_y, n_h) * 0.001\n",
    "    b2 = np.zeros((n_y, 1))\n",
    "    \n",
    "    #if one of the conditions is false , the assert function will stop the program and throw an assertion error\n",
    "    assert(W1.shape == (n_h, n_x))\n",
    "    assert(b1.shape == (n_h, 1))\n",
    "    assert(W2.shape == (n_y, n_h))\n",
    "    assert(b2.shape == (n_y, 1))\n",
    "    \n",
    "    \n",
    "    #compute the parameters\n",
    "    parameters = {\"W1\": W1, \"b1\":b1 , \"W2\": W2, \"b2\":b2}\n",
    "    \n",
    "    \n",
    "    return parameters"
   ]
  },
  {
   "cell_type": "code",
   "execution_count": 261,
   "metadata": {},
   "outputs": [
    {
     "name": "stdout",
     "output_type": "stream",
     "text": [
      "W1 = [[ 0.01624345 -0.00611756 -0.00528172]\n",
      " [-0.01072969  0.00865408 -0.02301539]]\n",
      "b1 = [[0.]\n",
      " [0.]]\n",
      "W2 = [[ 0.01744812 -0.00761207]]\n",
      "b2 [[0.]]\n"
     ]
    }
   ],
   "source": [
    "#Test our code \n",
    "parameters = initialize_parameters(3,2,1)\n",
    "print(\"W1 = \" + str(parameters[\"W1\"]))\n",
    "print(\"b1 = \" + str(parameters[\"b1\"]))\n",
    "print(\"W2 = \" + str(parameters[\"W2\"]))\n",
    "print(\"b2 \" + str(parameters[\"b2\"]))"
   ]
  },
  {
   "cell_type": "markdown",
   "metadata": {},
   "source": [
    "<br> \n",
    "\n",
    "## L-Layer Model <a anchor = \"anchor\" id = \"3.2\"></a>"
   ]
  },
  {
   "cell_type": "code",
   "execution_count": 262,
   "metadata": {},
   "outputs": [],
   "source": [
    "def initialize_parameters_deep(layer_dims):\n",
    "    '''\n",
    "    Usage:\n",
    "      #intialize_parameters_deep --> used to randomly initialize the parameters of L-Layer neural network\n",
    "  \n",
    "    \n",
    "    Arguments:\n",
    "      #layer_dims --> list containing each dimension for each layer \n",
    "    \n",
    "    Returns:\n",
    "      #parameters -->  python dictionary containing your parameters \"W1\", \"b1\", ..., \"WL\", \"bL\":\n",
    "                       Wl -- weight matrix of shape (layer_dims[l], layer_dims[l-1])\n",
    "                       bl -- bias vector of shape (layer_dims[l], 1)\n",
    "    '''\n",
    "    \n",
    "    np.random.seed(3)\n",
    "    \n",
    "    #iniatialize empty dic which will be populated later\n",
    "    parameters = {} \n",
    "    \n",
    "    #define the number of layers in our network \n",
    "    L = len(layer_dims)\n",
    "    \n",
    "    \n",
    "    for l in range(1, L):\n",
    "        \n",
    "        parameters[\"W\" + str(l)] = np.random.randn(layer_dims[l] , layer_dims[l - 1]) * 0.01\n",
    "        parameters[\"b\" + str(l)] = np.zeros((layer_dims[l], 1))\n",
    "      \n",
    "        \n",
    "        #if one of the conditions is false , the assert function will stop the program and throw an assertion error\n",
    "        assert(parameters[\"W\" + str(l)].shape == (layer_dims[l], layer_dims[l-1]))\n",
    "        assert(parameters[\"b\" + str(l)].shape == (layer_dims[l], 1))\n",
    "    \n",
    "    \n",
    "    \n",
    "    return parameters    "
   ]
  },
  {
   "cell_type": "code",
   "execution_count": 263,
   "metadata": {},
   "outputs": [
    {
     "name": "stdout",
     "output_type": "stream",
     "text": [
      "W1[[ 0.01788628  0.0043651   0.00096497 -0.01863493 -0.00277388]\n",
      " [-0.00354759 -0.00082741 -0.00627001 -0.00043818 -0.00477218]\n",
      " [-0.01313865  0.00884622  0.00881318  0.01709573  0.00050034]\n",
      " [-0.00404677 -0.0054536  -0.01546477  0.00982367 -0.01101068]]\n",
      "b1[[0.]\n",
      " [0.]\n",
      " [0.]\n",
      " [0.]]\n",
      "W2[[-0.01185047 -0.0020565   0.01486148  0.00236716]\n",
      " [-0.01023785 -0.00712993  0.00625245 -0.00160513]\n",
      " [-0.00768836 -0.00230031  0.00745056  0.01976111]]\n",
      "b2[[0.]\n",
      " [0.]\n",
      " [0.]]\n"
     ]
    }
   ],
   "source": [
    "#Test the code\n",
    "parameters = initialize_parameters_deep([5,4,3])\n",
    "\n",
    "print(\"W1\" + str(parameters[\"W1\"]))\n",
    "print(\"b1\" + str(parameters[\"b1\"]))\n",
    "print(\"W2\" + str(parameters[\"W2\"]))\n",
    "print(\"b2\" + str(parameters[\"b2\"]))"
   ]
  },
  {
   "cell_type": "markdown",
   "metadata": {},
   "source": [
    "<br>\n",
    "\n",
    "# Forward propagation module <a anchor = \"anchor\" id = \"4\"> </a>\n",
    "\n",
    "<img src = \"https://i.imgur.com/OIAYrns.png\" style = \"width: 80%;\">\n",
    "\n",
    "The term <b>Forward</b> means that we are moving forward in our computational graph to compute every operation in it. \n",
    "\n",
    "The term <b> Propagation </b> means that we compute the next operation (inside the next node) using the output of the previous as an input. \n",
    "\n",
    "So the forward propagation is just forward pass of a computational graph where we applay each operation from left to right, passing the outputs of each operation as the input to the next node. \n",
    "\n",
    "The Forward Propagation consists of two parts: \n",
    " * <b> Linear Part: </b>  in this part, we compute the weighted input of the layer $l$, $Z^{[l]}$\n",
    " * <b> Activation Part: </b> in this part, we compute the activation of the weighted input of the layer $l$, $A^{[l]}$\n",
    " \n",
    "\n",
    " \n",
    " \n",
    " \n",
    " <br>\n",
    " \n",
    " \n",
    " ## Linear Forward For a Single Layer<a anchor  = \"anchor\" id = \"4.1\"> </a>\n",
    " \n",
    " In this section , we compute the weighted input for the activation which is:  $$Z^{[l]} = W^{[l]} A^{[l - 1]}  + b^ {[l]}$$"
   ]
  },
  {
   "cell_type": "code",
   "execution_count": 264,
   "metadata": {},
   "outputs": [],
   "source": [
    "def linear_forward(A, W, b):\n",
    "    '''\n",
    "    Usage:\n",
    "      #inear_forward --> used to compute the weighted input, Z\n",
    "  \n",
    "    \n",
    "    Arguments:\n",
    "      #A --> activations from previous layer (or input data): (size of previous layer, number of examples)\n",
    "      #W --> weights matrix: numpy array of shape (size of current layer, size of previous layer)\n",
    "      #b --> bias vector, numpy array of shape (size of the current layer, 1) \n",
    "    \n",
    "    Returns:\n",
    "      #Z --> the weighted input, aslo called pre-activation parameter\n",
    "      #cache --> tuple of values (A, W, b) which is useful for  backpropagation step \n",
    "    '''\n",
    "    \n",
    "    \n",
    "    Z = np.matmul(W,A) + b\n",
    "    \n",
    "    assert(Z.shape == (W.shape[0], A.shape[1]))\n",
    "    \n",
    "    cache = (A,W,b)\n",
    "    \n",
    "    return Z, cache "
   ]
  },
  {
   "cell_type": "code",
   "execution_count": 265,
   "metadata": {},
   "outputs": [
    {
     "name": "stdout",
     "output_type": "stream",
     "text": [
      "[[ 1.62434536 -0.61175641]\n",
      " [-0.52817175 -1.07296862]\n",
      " [ 0.86540763 -2.3015387 ]] \n",
      "\n",
      " [[ 1.74481176 -0.7612069   0.3190391 ]] \n",
      "\n",
      " [[-0.24937038]]\n",
      "\n",
      "\n",
      "Z = [[ 3.26295337 -1.23429987]]\n"
     ]
    }
   ],
   "source": [
    "#Test the code \n",
    "A,W,b = linear_forward_test_case()\n",
    "\n",
    "print(f\"{A} \\n\\n {W} \\n\\n {b}\\n\\n\") \n",
    "\n",
    "Z, linear_cache = linear_forward(A, W, b)\n",
    "\n",
    "print(\"Z = \" + str(Z))"
   ]
  },
  {
   "cell_type": "markdown",
   "metadata": {},
   "source": [
    "<br>\n",
    "\n",
    "## Linear-Activation Forward For a Single Layer <a anchor = \"anchor\" id = \"4.2\"></a>\n",
    "\n",
    "In this section , we compute the activation of the weighted input which is defined as: $$A^{[l]} = g^{[l]} (Z^{[l]})$$\n",
    "\n",
    "### Types of Activation Functions: \n",
    "\n",
    "- Sigmoid Function \n",
    " \n",
    " <img src = \"https://i.imgur.com/pAFKTa5.png\" >\n",
    " \n",
    "  The sigmoid function takes a real value and maps it to the range  between $0$ and $1$. \n",
    " \n",
    "  The sigmoid function, using vector notation,  is defined as: $$\\sigma(Z) = \\sigma(W A + b) = \\frac{1} {1 + \\exp{ - ( W A + b)   }} $$\n",
    "\n",
    "  The sigmoid funtion has a number of advantages: \n",
    "  * It maps the output in the range between $0$ and $1$, which is useful in squashing outliers toward $0$ and $1$\n",
    "  * It's differentiable , which will be very useful mathematically for learning \n",
    "  \n",
    "  \n",
    "  <br>\n",
    "  \n",
    "  \n",
    "  \n",
    "  \n",
    "  \n",
    "- ReLu\n",
    "\n",
    "  <img src = \"https://i.imgur.com/NvJ2zt9.png\" >\n",
    "\n",
    "  ReLU is an acornym formed from the intials of \"Rectified Linear Unit\" , and it's  is the simplest and most commonly used       activation function. It takes an input and return the same input if it's positive and zero otherwise.\n",
    "\n",
    "  The ReLU function, using vector notation,  is defined as: $$ReLU(Z) = max(Z,0)$$\n",
    " \n",
    "  The ReLU function has a number of advantages:\n",
    "  \n",
    "   - it's close to linear, ulike the sigmoid function which for high value of Z , results in values of y which are saturated \n",
    "     which has bad results for learning \n",
    " \n"
   ]
  },
  {
   "cell_type": "code",
   "execution_count": 266,
   "metadata": {},
   "outputs": [],
   "source": [
    "def linear_activation_forward(A_prev, W, b, activation):\n",
    "    '''\n",
    "    Usage:\n",
    "      #inear_activation_forward --> used to compute the activation of the weighted input \n",
    "  \n",
    "    \n",
    "    Arguments:\n",
    "      #A_prev --> activations from previous layer (or input data): (size of previous layer, number of examples)\n",
    "      #W --> weights matrix: numpy array of shape (size of current layer, size of previous layer)\n",
    "      #b --> bias vector, numpy array of shape (size of the current layer, 1)\n",
    "      #activation --> a string represents the type of the activation function used in this layer\n",
    "    \n",
    "    Returns:\n",
    "      #A --> the output of the activation function, also called post-activation value\n",
    "      #cache --> a tuple linear cache values with the activation cache --> (A_prev , W, b, Z) which  is useful for backpropagation\n",
    "    '''\n",
    "    \n",
    "    if activation == \"sigmoid\":\n",
    "        # Inputs: \"A_prev, W, b\". Outputs: \"A, activation_cache\".\n",
    "        Z, linear_cache = linear_forward(A_prev, W, b)\n",
    "        A, activation_cache = sigmoid(Z)\n",
    "    \n",
    "    elif activation == \"relu\":\n",
    "        # Inputs: \"A_prev, W, b\". Outputs: \"A, activation_cache\".\n",
    "        Z, linear_cache = linear_forward(A_prev, W, b)\n",
    "        A, activation_cache = relu(Z)\n",
    "    \n",
    "    assert (A.shape == (W.shape[0], A_prev.shape[1]))\n",
    "    cache = (linear_cache, activation_cache)\n",
    "\n",
    "    return A, cache"
   ]
  },
  {
   "cell_type": "code",
   "execution_count": 267,
   "metadata": {},
   "outputs": [
    {
     "name": "stdout",
     "output_type": "stream",
     "text": [
      "With sigmoid: \n",
      " The pos-activation value: [[0.96890023 0.11013289]] \n",
      " Cache: ((array([[-0.41675785, -0.05626683],\n",
      "       [-2.1361961 ,  1.64027081],\n",
      "       [-1.79343559, -0.84174737]]), array([[ 0.50288142, -1.24528809, -1.05795222]]), array([[-0.90900761]])), array([[ 3.43896131, -2.08938436]]))\n",
      "\n",
      "\n",
      "With relu: \n",
      " The pos-activation value: [[3.43896131 0.        ]] \n",
      " Cache: ((array([[-0.41675785, -0.05626683],\n",
      "       [-2.1361961 ,  1.64027081],\n",
      "       [-1.79343559, -0.84174737]]), array([[ 0.50288142, -1.24528809, -1.05795222]]), array([[-0.90900761]])), array([[ 3.43896131, -2.08938436]]))\n",
      "\n",
      "\n"
     ]
    }
   ],
   "source": [
    "#Test the code \n",
    "A_prev, W, b = linear_activation_forward_test_case()\n",
    "\n",
    "A, linear_activation_cache = linear_activation_forward(A_prev, W, b, activation = \"sigmoid\")\n",
    "print(f\"With sigmoid: \\n The pos-activation value: {A} \\n Cache: {linear_activation_cache}\\n\\n\")\n",
    "\n",
    "A, linear_activation_cache = linear_activation_forward(A_prev, W, b, activation = \"relu\")\n",
    "print(f\"With relu: \\n The pos-activation value: {A} \\n Cache: {linear_activation_cache}\\n\\n\")\n"
   ]
  },
  {
   "cell_type": "markdown",
   "metadata": {},
   "source": [
    "## Linear Pass <a anchor = \"anchor\" id = \"4.3\"></a>\n",
    " \n",
    "<b>The pseudo-code of the  algorithm for computing the forward step in L-layer feedforward network, given the input matrix $A^{[0]}$ is:</b>\n",
    " \n",
    " <i><b>for</b></i> $ \\hspace{1mm} l \\hspace{1mm} from \\hspace{1mm} 1 \\hspace{1mm} to \\hspace{1mm} L:\\\\\n",
    " \\hspace{1cm} Z^{[l]} = W^{[l]} A^{[l - 1]}  + b^ {[l]} \\\\\n",
    "  \\hspace{1cm} A^{[l]} = g^{[l]} (Z^{[l]}) \\\\\n",
    "\\hspace{-6mm}\\hat{y} = A^{[L]}   \n",
    " $\n",
    " \n",
    "<b>When we implement the forward pass:</b>\n",
    " - we use ReLU for intermediate layers \n",
    " - we use Sigmoid for output layer\n",
    " "
   ]
  },
  {
   "cell_type": "code",
   "execution_count": 268,
   "metadata": {},
   "outputs": [],
   "source": [
    "def L_model_forward(X, parameters):\n",
    "    '''\n",
    "    Usage:\n",
    "      #L_model_forward --> used to implement the forward pass\n",
    "  \n",
    "    \n",
    "    Arguments:\n",
    "      #X --> numpy array of shape (input size , number of examples)\n",
    "      #parameters --> python dictionary containing your parameters \"W1\", \"b1\", ..., \"WL\", \"bL\":\n",
    "                      Wl -- weight matrix of shape (layer_dims[l], layer_dims[l-1])\n",
    "                      bl -- bias vector of shape (layer_dims[l], 1)\n",
    "    \n",
    "    Returns:\n",
    "      #AL --> last-post activation value\n",
    "      #caches --> list of tuples where each tuples represents --> (linear_cache , activation_cache) \n",
    "                  corresponding to a certain layer\n",
    "    '''\n",
    "    \n",
    "    #initialize an empty list which will contains all the caches corresponding to each layer\n",
    "    caches = []\n",
    "    \n",
    "    #define the input array \n",
    "    A = X\n",
    "    \n",
    "    #define the number of layers of the neural network  --> # items in dic (parameters) / 2\n",
    "    #since each layer has two parameters W, b \n",
    "    L  = len(parameters) // 2\n",
    "    \n",
    "    #Set the ReLU activation function  to all the layers except the final layer\n",
    "    for l in range(1, L):\n",
    "        A_prev = A\n",
    "    \n",
    "        A, cache = linear_activation_forward(A_prev, parameters[\"W\" + str(l)],\n",
    "                                              parameters[\"b\" + str(l)],\n",
    "                                              activation = \"relu\")\n",
    "        caches.append(cache)\n",
    "        \n",
    "    \n",
    "    #Set the sigmoid activation funtion to the final layer\n",
    "    AL, cache = linear_activation_forward(A, parameters[\"W\" + str(L)],\n",
    "                                              parameters[\"b\" + str(L)],\n",
    "                                              activation = \"sigmoid\")\n",
    "    caches.append(cache)\n",
    "    \n",
    "    assert(AL.shape == (1, X.shape[1]))\n",
    "    \n",
    "    return AL, caches"
   ]
  },
  {
   "cell_type": "code",
   "execution_count": 269,
   "metadata": {},
   "outputs": [
    {
     "name": "stdout",
     "output_type": "stream",
     "text": [
      "AL = [[0.17007265 0.2524272 ]]\n",
      "Length of caches list = 2\n"
     ]
    }
   ],
   "source": [
    "#Test the code\n",
    "X, parameters = L_model_forward_test_case()\n",
    "AL, caches = L_model_forward(X, parameters)\n",
    "print(\"AL = \" + str(AL))\n",
    "print(\"Length of caches list = \" + str(len(caches)))"
   ]
  },
  {
   "cell_type": "markdown",
   "metadata": {},
   "source": [
    "<br>\n",
    "\n",
    "# Cost Function <a anchor = \"anchor\" id  = \"5\" ></a>\n",
    "\n",
    "We want a Cost function that models the  distance between the actual output and the estimated  one. It's common to use cross-entropy as a cost funtction.\n",
    "\n",
    "The Cross-Entropy is defined as:\n",
    "\n",
    "$$Cost = -\\frac{1}{m} \\sum\\limits_{i = 1}^{m} (y^{(i)}\\log\\left(a^{[L] (i)}\\right) + (1-y^{(i)})\\log\\left(1- a^{[L](i)}\\right)) \\tag{7}$$ \n",
    "\n",
    "The vector notation of the cost function using <b>Hadamard Product</b> is defined as:\n",
    "\n",
    "$$ Cost = -\\frac{1}{m} \\sum {Y \\odot \\log(A^{[L]}) + (1 - Y) \\odot \\log( 1 - A^{[L]})}$$\n",
    "\n",
    "$\\sum:$ means that we will sum the output of all the entities of the output vector "
   ]
  },
  {
   "cell_type": "code",
   "execution_count": null,
   "metadata": {},
   "outputs": [],
   "source": [
    "def compute_cost(AL,Y):\n",
    "    '''\n",
    "    Usage:\n",
    "      #compute_cost --> used to implement the forward pass\n",
    "  \n",
    "    \n",
    "    Arguments:\n",
    "      #AL --> probability vector corresponding to your label predictions, shape (1, number of examples)\n",
    "      #Y --> true \"label\" vector (for example: containing 0 if non-cat, 1 if cat), shape (1, number of examples)\n",
    "    \n",
    "    Returns:\n",
    "      #AL --> last-post activation value\n",
    "      #caches --> list of tuples where each tuples represents --> (linear_cache , activation_cache) \n",
    "                  corresponding to a certain layer\n",
    "    '''\n",
    "    #get the number of the training examples\n",
    "    m = Y.shape[1] \n",
    "    \n",
    "    #compute the cost\n",
    "    cost = (-1/m) * np.sum(np.multiply(Y, np.log(AL)) + np.multiply((1 - Y ), ( 1 - np.log( 1 - AL))))\n",
    "    #cost = (1./m) * (-np.dot(Y,np.log(AL).T) - np.dot(1-Y, np.log(1-AL).T))\n",
    "    \n",
    "    #reduce the rank of the array to be zero instead of one \n",
    "    #in other words, covenrt one-rank array to scalar (zero-rank array) --> ((e.g. this turns [17] into 17))\n",
    "    cost = np.squeeze(cost)\n",
    "    \n",
    "    assert(cost.shape == ())\n",
    "    \n",
    "    return cost "
   ]
  },
  {
   "cell_type": "code",
   "execution_count": 271,
   "metadata": {},
   "outputs": [
    {
     "name": "stdout",
     "output_type": "stream",
     "text": [
      "cost = 0.41493159961539694\n"
     ]
    }
   ],
   "source": [
    "#Test the code \n",
    "Y, AL = compute_cost_test_case()\n",
    "print(\"cost = \" + str(compute_cost(AL, Y)))"
   ]
  },
  {
   "cell_type": "code",
   "execution_count": null,
   "metadata": {},
   "outputs": [],
   "source": []
  },
  {
   "cell_type": "markdown",
   "metadata": {},
   "source": [
    "<br> \n",
    "\n",
    "# Backward propagation module <a anchor = \"anchor\" id = \"6\" ></a>\n",
    "\n",
    "<img src = \"https://i.imgur.com/tKqQ4Uc.png\" style = \"width: 80%;\"> \n",
    "\n",
    "<br>\n",
    "\n",
    "In the backward pass of a computational graph,  we applay each operation from right to left , passing the outputs of each operation as the input to the next node. So, we start from the final layer to the first one .\n",
    "\n",
    "## We have some equations used in backpropagation: \n",
    "\n",
    "<b> We define the error $\\delta^{[l]}_{j} $ of the neuron $j$ in layer $L$ as: </b>\n",
    "$$\\large \\delta^{[l]}_{j} = \\frac{\\partial{J}} { \\partial{z^{[l]}_{j}} } \\tag{1} $$\n",
    "\n",
    "<b> We can also compute the error using another fomulas which is: </b>\n",
    "$$ \\large \\delta^{[l]}_{j} = \\frac{\\partial{J}} { \\partial{a^{[l]}_{j}} }   \\sigma^\\prime (z^{[l]}_{j}) \\tag{2} $$\n",
    "\n",
    "<b>We can rewrite the second formula using vector notation: </b>\n",
    "$$ \\large \\delta^{[l]} = \\nabla_a {J} \\odot \\sigma^\\prime (z^{[l]})  \\tag{3} $$\n",
    "\n",
    "<b>There's a enquation that describe the error $\\delta^{[l]}$ in terms of the error in the next layer $\\delta^{[l]} $ which is defined as:</b>\n",
    " $$\\large \\delta^{[l]} = \\big((W^{l + 1})^T  \\delta^{[l + 1]}  \\big) \\odot \\sigma^\\prime (z^{[l]})  \\tag{4}$$\n",
    " \n",
    " <b>There's an equation the describes the rate of change of the cost with respect to any weight in the\n",
    "network which is defined as: </b>\n",
    "\n",
    "$$ \\large  \\frac{\\partial{J}} { \\partial{w^{[l]}_{jk}} } = a^{[l  - 1]}_{k} \\delta^{[l]}_{j} \\tag{5}  $$\n",
    "\n",
    "<b> Where, </b> \n",
    " $w^{[l]}_{jk}: $ denotes the weight for the connection from the k-th neuron in\n",
    "the (l − 1)-th layer to the j-th neuron in the l-th layer\n",
    "\n",
    "\n",
    "<b> There's an equation for the rate of change of the cost with respect to any bias in the network which is defined as: </b>\n",
    "$$  \\large \\frac{\\partial{J}} { \\partial{b^{[l]}_{j}} } =  \\delta^{[l]}_{j} \\tag{6}$$\n",
    " \n",
    "\n",
    "\n",
    "Using these equations , we can compute the partial derivatives $ \\large \\frac{\\partial{J}} { \\partial{W} }$  and $ \n",
    "\\large \\frac{\\partial{J}} { \\partial{b} } $ of the\n",
    "cost function $\\large J$ with respect to any weight $W$ or bias $\\large b$ in the network. \n",
    "\n",
    "<br>\n",
    "\n",
    "## Linear backward For a Single Layer <a anchor = \"anchor\" id  = \"6.1\" ></a> \n",
    "In linear backward , we compute $\\large (dW^{[L]}, db^{[L]}, dA^{[L]})$ Using the weighted input $\\large dZ^{[L]}$ "
   ]
  },
  {
   "cell_type": "code",
   "execution_count": 272,
   "metadata": {},
   "outputs": [],
   "source": [
    "def linear_backward(dZ, cache):\n",
    "    '''\n",
    "    Usage:\n",
    "      #linear_backward --> used to implement the linear portion of backward propagation for a single layer (layer l)\n",
    "  \n",
    "    \n",
    "    Arguments:\n",
    "      #dZ --> Gradient of the cost with respect to the linear output (of current layer l)\n",
    "      #cache --> tuple of values (A_prev, W, b) coming from the forward propagation in the current layer (Linear_cache)\n",
    "    \n",
    "    Returns:\n",
    "      #dA_prev --> Gradient of the cost with respect to the activation (of the previous layer l-1), same shape as A_prev\n",
    "      #dW --> Gradient of the cost with respect to W (current layer l), same shape as W\n",
    "      #db --> Gradient of the cost with respect to b (current layer l), same shape as b\n",
    "    '''\n",
    "    \n",
    "    A_prev , W, b = cache\n",
    "    m = A_prev.shape[1]\n",
    "    \n",
    "    #compute the linear portion of backward propagation \n",
    "    dW = 1/m * np.matmul(dZ, A_prev.T)\n",
    "    \n",
    "    # we keep dimension db so that the dimension doesn't change to 1-rank array bus stay column array \n",
    "    db = 1/m * np.sum(dZ, axis = 1 , keepdims = True)\n",
    "    dA_prev = np.matmul(W.T, dZ)\n",
    "    \n",
    "    assert(dA_prev.shape == A_prev.shape)\n",
    "    assert(dW.shape == W.shape)\n",
    "    assert(db.shape == b.shape)\n",
    "    \n",
    "    return dA_prev, dW, db"
   ]
  },
  {
   "cell_type": "code",
   "execution_count": 273,
   "metadata": {},
   "outputs": [
    {
     "name": "stdout",
     "output_type": "stream",
     "text": [
      "dA_prev = [[ 0.51822968 -0.19517421]\n",
      " [-0.40506361  0.15255393]\n",
      " [ 2.37496825 -0.89445391]]\n",
      "dW = [[-0.10076895  1.40685096  1.64992505]]\n",
      "db = [[0.50629448]]\n"
     ]
    }
   ],
   "source": [
    "#Test the code \n",
    "dZ, linear_cache = linear_backward_test_case()\n",
    "\n",
    "dA_prev, dW, db = linear_backward(dZ, linear_cache)\n",
    "\n",
    "print(f\"dA_prev = {dA_prev}\")\n",
    "print(f\"dW = {dW}\")\n",
    "print(f\"db = {db}\")"
   ]
  },
  {
   "cell_type": "markdown",
   "metadata": {},
   "source": [
    "## Linear-Activation Backward For a Single Layer <a anchor  = \"anchor\" id = \"6.2\"></a>\n",
    "\n",
    "In this section, We $dZ$  with the help of computing the linear backward using the equation number $3$ from the previous equations"
   ]
  },
  {
   "cell_type": "code",
   "execution_count": 274,
   "metadata": {},
   "outputs": [],
   "source": [
    "def linear_activation_backward(dA, cache, activation):\n",
    "    '''\n",
    "    Usage:\n",
    "      #inear_activation_backward --> used to implement the backward propagation for the LINEAR->ACTIVATION layer.\n",
    "  \n",
    "    \n",
    "    Arguments:\n",
    "      #dA --> the post-activation gradient for the current layer L \n",
    "      #cache --> tuple of values (linear_cache, activation_cache) we store for computing backward propagation efficiently\n",
    "      #activation --> a string represents the type of the activation function used in this layer\n",
    "    \n",
    "    Returns:\n",
    "      #dA_prev --> Gradient of the cost with respect to the activation (of the previous layer l-1), same shape as A_prev\n",
    "      #dW --> Gradient of the cost with respect to W (current layer l), same shape as W\n",
    "      #db --> Gradient of the cost with respect to b (current layer l), same shape as b\n",
    "    '''\n",
    "    \n",
    "    #Extract linear cache and activation cache from the tuple cache ((dA, W, b), (Z)) --> (dA, W, b), (Z)\n",
    "    linear_cache, activation_cache = cache \n",
    "    \n",
    "    if activation == \"relu\":\n",
    "        dZ = relu_backward(dA, activation_cache)\n",
    "        dA_prev, dW, db = linear_backward(dZ, linear_cache)\n",
    "    \n",
    "    elif activation == \"sigmoid\":\n",
    "        dZ = sigmoid_backward(dA, activation_cache)\n",
    "        dA_prev, dW, db = linear_backward(dZ, linear_cache)\n",
    "\n",
    "        \n",
    "        \n",
    "    return dA_prev, dW, db "
   ]
  },
  {
   "cell_type": "code",
   "execution_count": 275,
   "metadata": {},
   "outputs": [
    {
     "name": "stdout",
     "output_type": "stream",
     "text": [
      "sigmoid:\n",
      "dA_prev = [[ 0.11017994  0.01105339]\n",
      " [ 0.09466817  0.00949723]\n",
      " [-0.05743092 -0.00576154]]\n",
      "dW = [[ 0.10266786  0.09778551 -0.01968084]]\n",
      "db = [[-0.05729622]]\n",
      "\n",
      "relu:\n",
      "dA_prev = [[ 0.44090989  0.        ]\n",
      " [ 0.37883606  0.        ]\n",
      " [-0.2298228   0.        ]]\n",
      "dW = [[ 0.44513824  0.37371418 -0.10478989]]\n",
      "db = [[-0.20837892]]\n"
     ]
    }
   ],
   "source": [
    "#Test the code\n",
    "\n",
    "AL, linear_activation_cache = linear_activation_backward_test_case()\n",
    "\n",
    "dA_prev, dW, db = linear_activation_backward(AL, linear_activation_cache, activation = \"sigmoid\")\n",
    "print (\"sigmoid:\")\n",
    "print (\"dA_prev = \"+ str(dA_prev))\n",
    "print (\"dW = \" + str(dW))\n",
    "print (\"db = \" + str(db) + \"\\n\")\n",
    "\n",
    "dA_prev, dW, db = linear_activation_backward(AL, linear_activation_cache, activation = \"relu\")\n",
    "print (\"relu:\")\n",
    "print (\"dA_prev = \"+ str(dA_prev))\n",
    "print (\"dW = \" + str(dW))\n",
    "print (\"db = \" + str(db))"
   ]
  },
  {
   "cell_type": "markdown",
   "metadata": {},
   "source": [
    "## Backward Pass <a anchor = \"anchor\" id = \"6.3\" ></a>\n",
    "\n",
    "###  The Pseudo-code of the Backpropagation Algorithm (Involving feedforward step) is defined as:\n",
    "\n",
    " -  Given input $X = A^{[0]}$\n",
    " - Compute the forward step: \n",
    " \n",
    "  <i><b>for</b></i> $ \\hspace{1mm} l \\hspace{1mm} from \\hspace{1mm} 1 \\hspace{1mm} to \\hspace{1mm} L:\\\\\n",
    " \\hspace{1cm} Z^{[l]} = W^{[l]} A^{[l - 1]}  + b^ {[l]} \\\\\n",
    "  \\hspace{1cm} A^{[l]} = g^{[l]} (Z^{[l]}) \\\\\n",
    " \\hspace{-6mm}\\hat{y} = A^{[L]}   \n",
    " $\n",
    " \n",
    " \n",
    " - Compute the output error $ \\delta^{[L]} $ , then, compute the gradients of the cost function, $\\frac{\\partial{J}} { \\partial{W^{[L]}} }, \\frac{\\partial{J}} { \\partial{b^{[L]}} }$:\n",
    " \n",
    " $\\hspace{1cm}\\delta^{[L]} = \\nabla_a {J} \\odot \\sigma^\\prime (z^{[L]})\\\\\n",
    " \\hspace{1cm} \\frac{\\partial{J}} { \\partial{W^{[L]}} } = \\frac{1}{m} \\delta^{[L]}  \\big(A^{[L  - 1]}\\big)^T = \\frac{1}{m}\\frac{\\partial{J}} { \\partial{Z^{[L]}} } \\big(A^{[L  - 1]}\\big)^T \\\\\n",
    "  \\hspace{1cm} \\frac{\\partial{J}} { \\partial{b^{[L]}} } = \\frac{1}{m} \\sum_{i}^{m} {\\delta^{[L] (i)}} \\frac{1}{m} \\sum_{i}^{m} { \\big ( \\frac{\\partial{J}} { \\partial{Z^{[L]}} } \\big ) ^{(i)} }$\n",
    " \n",
    " \n",
    " - Backpropagate the error, then, compute the gradients of the cost function, $\\frac{\\partial{J}} { \\partial{W^{[l]}} }, \\frac{\\partial{J}} { \\partial{b^{[l]}} }$: \n",
    " \n",
    "    <i><b>for</b></i> $ \\hspace{1mm} l \\hspace{1mm} from \\hspace{1mm} L - 1 \\hspace{1mm} to \\hspace{1mm} 1:\\\\\n",
    " \\hspace{1cm} \\delta^{[l]} = \\frac{\\partial{J}} { \\partial{Z^{[l]}} } = \\big((W^{l + 1})^T  \\delta^{[l + 1]}  \\big) \\odot \\sigma^\\prime (z^{[l]}) \\\\\n",
    "  \\hspace{1cm} \\frac{\\partial{J}} { \\partial{W^{[l]}} } = \\frac{1}{m} \\delta^{[l]}  \\big(A^{[l  - 1]}\\big)^T = \\frac{1}{m}\\frac{\\partial{J}} { \\partial{Z^{[l]}} } \\big(A^{[l  - 1]}\\big)^T \\\\\n",
    "  \\hspace{1cm} \\frac{\\partial{J}} { \\partial{b^{[l]}} } = \\frac{1}{m} \\sum_{i}^{m} {\\delta^{[l] (i)}} \\frac{1}{m} \\sum_{i}^{m} { \\big ( \\frac{\\partial{J}} { \\partial{Z^{[l]}} } \\big ) ^{(i)} }\n",
    " $"
   ]
  },
  {
   "cell_type": "code",
   "execution_count": 276,
   "metadata": {},
   "outputs": [],
   "source": [
    "def L_model_backward(AL, Y, caches):\n",
    "    '''\n",
    "    Usage:\n",
    "      #L_model_backward --> used to implement the backward propagation setp for L-layer neural network.\n",
    "  \n",
    "    \n",
    "    Arguments:\n",
    "      #AL --> last-post activation value\n",
    "      #Y --> true \"label\" vector (containing 0 if non-cat, 1 if cat)\n",
    "      #caches --> list of tuples where each tuple represents --> (linear_cache , activation_cache) \n",
    "                  corresponding to a certain layer\n",
    "                  caches = [((A1, W1, b1), Z1), ((A2, W2, b2), Z2), ..... , ((AL, WL, bL), ZL)]\n",
    "    \n",
    "    Returns:\n",
    "      #grads -- A dictionary with the gradients\n",
    "                grads[\"dA\" + str(l)] = ... \n",
    "                grads[\"dW\" + str(l)] = ...\n",
    "                grads[\"db\" + str(l)] = ...\n",
    "    '''  \n",
    "    \n",
    "     \n",
    "    grads = {} #intialize the gradients dic\n",
    "    \n",
    "    L = len(caches) #define the number of layers\n",
    "    \n",
    "    m = AL.shape[1] #define the number of training examples\n",
    "    \n",
    "    #if Y doesn't have the shape of AL , make it.\n",
    "    #if not , do nothing \n",
    "    Y = Y.reshape(AL.shape)\n",
    "    \n",
    "    \n",
    "    #intializing the backporpagation\n",
    "    dAL = - (np.divide(Y, AL) - np.divide(1 - Y , 1 - AL))\n",
    "    \n",
    "    #get cache corresponding to the final layer\n",
    "    current_cache = caches[L - 1]\n",
    "    \n",
    "    #compute dW and db corresponding to the final layer, L \n",
    "    #also, compute the activation gradient of the previous layer using the current layer (final)\n",
    "    grads[\"dA\" + str(L - 1 )], grads[\"dW\" + str(L)], grads[\"db\" + str(L)] = linear_activation_backward(dAL, current_cache,\n",
    "                                                                                                      \"sigmoid\")\n",
    "    \n",
    "    #Loop from the penultimate layer up til the first one \n",
    "    for l in reversed(range(L - 1)):\n",
    "        \n",
    "        current_cache = caches[l]\n",
    "        grads[\"dA\" + str(l)], grads[\"dW\" + str(l + 1)], grads[\"db\" + str(l + 1)] = linear_activation_backward(grads[\"dA\" + str(l + 1)],\n",
    "                                                                                                              current_cache,\n",
    "                                                                                                              \"relu\")\n",
    "    return grads "
   ]
  },
  {
   "cell_type": "code",
   "execution_count": 277,
   "metadata": {},
   "outputs": [
    {
     "name": "stdout",
     "output_type": "stream",
     "text": [
      "dW1 = [[0.41010002 0.07807203 0.13798444 0.10502167]\n",
      " [0.         0.         0.         0.        ]\n",
      " [0.05283652 0.01005865 0.01777766 0.0135308 ]]\n",
      "db1 = [[-0.22007063]\n",
      " [ 0.        ]\n",
      " [-0.02835349]]\n",
      "dA1 = [[ 0.12913162 -0.44014127]\n",
      " [-0.14175655  0.48317296]\n",
      " [ 0.01663708 -0.05670698]]\n"
     ]
    }
   ],
   "source": [
    "AL, Y_assess, caches = L_model_backward_test_case()\n",
    "grads = L_model_backward(AL, Y_assess, caches)\n",
    "print_grads(grads)"
   ]
  },
  {
   "cell_type": "markdown",
   "metadata": {},
   "source": [
    "## Update Parameters <a anchor = \"anchor\" id = \"6.4\" ></a>\n",
    "<p style = \"font-size: 18px;\">The goal of updating the parameters is to find the parameters that minimize the cost function as much as possible. To minimize the cost function , we neead an optimization algorithm to do this job. One of the simplest algorithms to do this job is <b>Steepest Descent</b>.The classical steepest descent method is one of the oldest methods for the\n",
    "minimization of a general nonlinear function. The steepest descent method, also known as the gradient descent method, was first proposed by Cauchy in 1847 In the original paper, Cauchy proposed the use of the gradient as\n",
    "a way of solving a nonlinear equation of the form:\n",
    "$$f(x_1, x_2,\\ldots,x_n)=0, \\tag{1} $$\n",
    "    where $f$ is a real-valued continuous function that never becomes negative\n",
    "and which remains continuous, at least within certain limits. The basis\n",
    "for the method is the simple observation that a continuous function should\n",
    "decrease, at least initially, if one takes a step along the direction of the\n",
    "negative gradient. The only difficulty then is deciding how to choose the\n",
    "length of the step one should take. While this is easy to compute for special\n",
    "cases such as a convex quadratic function, the general case usually requires\n",
    "the minimization of the function in question along the negative gradient\n",
    "direction.</p>\n",
    "\n",
    "\n",
    "###  The formula of updating the parameters using gradient descent: \n",
    "$$ \\large b^{[l]} \\gets b^{[l]} - \\alpha \\frac{\\partial{J}} { \\partial{b^{[L]}} }\\\\\n",
    "\\normalsize W^{[l]} \\gets W^{[l]} -  \\alpha \\frac{\\partial{J}} { \\partial{W^{[L]}} }\n",
    "$$ "
   ]
  },
  {
   "cell_type": "code",
   "execution_count": 278,
   "metadata": {},
   "outputs": [],
   "source": [
    "def update_parameters(parameters, grads, learning_rate):\n",
    "    '''\n",
    "    Usage:\n",
    "      #update_parameters --> used to update the parameters using  gradient descent \n",
    "  \n",
    "    \n",
    "    Arguments:\n",
    "      #parameters --> python dictionary containing your parameters \n",
    "      #grads --> python dictionary containing your gradients, output of L_model_backward\n",
    "\n",
    "    \n",
    "    Returns:\n",
    "      #parameters --> python dictionary containing your updated parameters \n",
    "                      parameters[\"W\" + str(l)] = ... \n",
    "                      parameters[\"b\" + str(l)] = ...\n",
    "    '''\n",
    "    #define the number of layer \n",
    "    L = len(parameters) // 2\n",
    "    \n",
    "    #Updating the parameters of the network\n",
    "    for l in range(L):\n",
    "        parameters[\"W\" + str(l + 1)] = parameters[\"W\" + str(l + 1)] - learning_rate * grads[\"dW\" + str(l + 1)]\n",
    "        parameters[\"b\" + str(l + 1)] = parameters[\"b\" + str(l + 1)] - learning_rate * grads[\"db\" + str(l + 1)]\n",
    "        \n",
    "        \n",
    "    return parameters"
   ]
  },
  {
   "cell_type": "code",
   "execution_count": 279,
   "metadata": {},
   "outputs": [
    {
     "name": "stdout",
     "output_type": "stream",
     "text": [
      "W1 = [[-0.59562069 -0.09991781 -2.14584584  1.82662008]\n",
      " [-1.76569676 -0.80627147  0.51115557 -1.18258802]\n",
      " [-1.0535704  -0.86128581  0.68284052  2.20374577]]\n",
      "b1 = [[-0.04659241]\n",
      " [-1.28888275]\n",
      " [ 0.53405496]]\n",
      "W2 = [[-0.55569196  0.0354055   1.32964895]]\n",
      "b2 = [[-0.84610769]]\n"
     ]
    }
   ],
   "source": [
    "#Test the code\n",
    "parameters, grads = update_parameters_test_case()\n",
    "parameters = update_parameters(parameters, grads, 0.1)\n",
    "print (\"W1 = \"+ str(parameters[\"W1\"]))\n",
    "print (\"b1 = \"+ str(parameters[\"b1\"]))\n",
    "print (\"W2 = \"+ str(parameters[\"W2\"]))\n",
    "print (\"b2 = \"+ str(parameters[\"b2\"]))"
   ]
  },
  {
   "cell_type": "markdown",
   "metadata": {},
   "source": [
    "# Predict  <a anchor = \"anchor\" id = \"6.5\" ></a>\n"
   ]
  },
  {
   "cell_type": "code",
   "execution_count": 306,
   "metadata": {},
   "outputs": [],
   "source": [
    "def predict(X,y, parameters):\n",
    "    '''\n",
    "    Usage:\n",
    "      #predict  --> used to used to predict the results of a  L-layer neural network.\n",
    "                    In other words, used to compute the accuracy of the model\n",
    "  \n",
    "    \n",
    "    Arguments:\n",
    "      #X -- data set of examples you would like to label\n",
    "      #parameters -- parameters of the trained model\n",
    "\n",
    "    \n",
    "    Returns:\n",
    "      #accuracy --> predictions for the given dataset X (the accuracy of this model on that dataset)\n",
    "    '''\n",
    "    \n",
    "    m = X.shape[1]\n",
    "    \n",
    "    n = len(parameters) // 2 # number of layers in the neural network\n",
    "    \n",
    "    # Forward propagation\n",
    "    probs, caches = L_model_forward(X, parameters)\n",
    "    \n",
    "    #compute the accuracy \n",
    "    accuracy = float(np.sum((np.greater(probs, 0.5) == y))) / m\n",
    "    \n",
    "    print(f\"Accuracy: {accuracy}\")\n",
    "    \n",
    "    return accuracy"
   ]
  },
  {
   "cell_type": "markdown",
   "metadata": {},
   "source": [
    "# Print Mislabeled Images <a anchor = \"anchor\" id = \"6.6\"></a>"
   ]
  },
  {
   "cell_type": "code",
   "execution_count": 311,
   "metadata": {},
   "outputs": [],
   "source": [
    "def print_mislabeled_images(classes, x, y, p):\n",
    "    '''\n",
    "    Usage:\n",
    "      #print_mislabeled_images  --> used to used to Plots images where predictions and truth were different.l\n",
    "  \n",
    "    \n",
    "    Arguments:\n",
    "      #X --> data set of examples you would like to label\n",
    "      #y --> true labels\n",
    "      #p --> predictions (or the accuracy of the model on a gicen dataset)\n",
    "\n",
    "    \n",
    "    Returns:\n",
    "      #accuracy --> predictions for the given dataset X (the accuracy of this model on that dataset)\n",
    "    '''\n",
    "    a = p + y\n",
    "    mislabeled_indices = np.asarray(np.where(a == 1))\n",
    "    plt.rcParams['figure.figsize'] = (40.0, 40.0) # set default size of plots\n",
    "    num_images = len(mislabeled_indices[0])\n",
    "    for i in range(num_images):\n",
    "        index = mislabeled_indices[1][i]\n",
    "        \n",
    "        plt.subplot(2, num_images, i + 1)\n",
    "        plt.imshow(X[:,index].reshape(64,64,3), interpolation='nearest')\n",
    "        plt.axis('off')\n",
    "        plt.title(\"Prediction: \" + classes[int(p[0,index])].decode(\"utf-8\") + \" \\n Class: \" + classes[y[0,index]].decode(\"utf-8\"))\n",
    "    "
   ]
  },
  {
   "cell_type": "markdown",
   "metadata": {},
   "source": [
    "<br> \n",
    "\n",
    "# Application  <a acnhor = \"anchor\" id = \"7\"> </a>\n",
    "\n",
    "<br>\n",
    "\n",
    "## Load Data <a acnhor = \"anchor\" id = \"7.1\"> </a>"
   ]
  },
  {
   "cell_type": "code",
   "execution_count": 88,
   "metadata": {},
   "outputs": [],
   "source": [
    "def create_data(data_directory, categories, size):\n",
    "    '''\n",
    "    Usage:\n",
    "      #create_data--> used to build our dataset from a bunch of images\n",
    "  \n",
    "    \n",
    "    Arguments:\n",
    "      #data_directory --> the directory of data \n",
    "      #categories --> the labels of the images you want to set\n",
    "      #size --> the size of the images after converting the images to numpy array \n",
    "\n",
    "    \n",
    "    Returns:\n",
    "      #X --> the design matrix \n",
    "      #y --> the label vector which every element inside it is a label to corresponding example in the desin matrix, X\n",
    "      \n",
    "    '''\n",
    "    data = []\n",
    "    X = []\n",
    "    Y = []\n",
    "\n",
    "    for category in categories:\n",
    "        \n",
    "        #get the path for every category\n",
    "        path = os.path.join(data_dir,category)\n",
    "        \n",
    "        #Get the class number which represents the labels of the image (e.g. 0  for Cat , 1 for Dog)\n",
    "        class_num = categories.index(category)\n",
    "        \n",
    "        #Loop over every img in the specified path \n",
    "        for img in os.listdir(path):\n",
    "            \n",
    "            try:\n",
    "                #Lood the image , img, from the specified file corresponding to that path with its same size\n",
    "                img_array = cv2.imread(os.path.join(path,img),1)\n",
    "                \n",
    "                #Change the size of the loaded image \n",
    "                new_img_array = cv2.resize(img_array, size)\n",
    "                \n",
    "                #append the image ( in the numpy form) with its label  to data list\n",
    "                data.append([new_img_array, class_num])\n",
    "                \n",
    "            except: \n",
    "                pass\n",
    "\n",
    "            \n",
    "        #shuffle the data list before construcring the desing matrix , X , and the label vector Y \n",
    "        random.shuffle(data)\n",
    "        \n",
    "        \n",
    "    #Getting the features and labels from data list \n",
    "    for feature, label in data:\n",
    "        X.append(feature)\n",
    "        Y.append(label)\n",
    "        \n",
    "    #Convert them into numpy array    \n",
    "    X = np.asarray(X)\n",
    "    Y = np.asarray(Y)\n",
    "        \n",
    "    return X,Y,data"
   ]
  },
  {
   "cell_type": "code",
   "execution_count": 89,
   "metadata": {},
   "outputs": [],
   "source": [
    "data_dir = \"E:\\DataSets\\PetImages\"\n",
    "\n",
    "categories = [\"Cat\", \"Dog\"]\n",
    "\n",
    "X, Y, data = create_data(data_dir, categories, size = (64, 64))"
   ]
  },
  {
   "cell_type": "code",
   "execution_count": 90,
   "metadata": {},
   "outputs": [],
   "source": [
    "X = X[:8000]\n",
    "Y = Y[:8000]"
   ]
  },
  {
   "cell_type": "code",
   "execution_count": 91,
   "metadata": {},
   "outputs": [
    {
     "data": {
      "text/plain": [
       "(8000, 64, 64, 3)"
      ]
     },
     "execution_count": 91,
     "metadata": {},
     "output_type": "execute_result"
    }
   ],
   "source": [
    "#Explore the shape of X\n",
    "X.shape"
   ]
  },
  {
   "cell_type": "code",
   "execution_count": 92,
   "metadata": {},
   "outputs": [
    {
     "data": {
      "text/plain": [
       "(8000,)"
      ]
     },
     "execution_count": 92,
     "metadata": {},
     "output_type": "execute_result"
    }
   ],
   "source": [
    "#Explore the shape of Y \n",
    "Y.shape"
   ]
  },
  {
   "cell_type": "code",
   "execution_count": 93,
   "metadata": {},
   "outputs": [
    {
     "data": {
      "text/plain": [
       "<matplotlib.image.AxesImage at 0x1e1b39d9730>"
      ]
     },
     "execution_count": 93,
     "metadata": {},
     "output_type": "execute_result"
    },
    {
     "data": {
      "image/png": "[encoded data removed]",
      "text/plain": [
       "<Figure size 432x288 with 1 Axes>"
      ]
     },
     "metadata": {
      "needs_background": "light"
     },
     "output_type": "display_data"
    }
   ],
   "source": [
    "#Visualize one example\n",
    "plt.imshow(X[12])"
   ]
  },
  {
   "cell_type": "code",
   "execution_count": 94,
   "metadata": {},
   "outputs": [
    {
     "data": {
      "text/plain": [
       "<matplotlib.image.AxesImage at 0x1e1a05241f0>"
      ]
     },
     "execution_count": 94,
     "metadata": {},
     "output_type": "execute_result"
    },
    {
     "data": {
      "image/png": "[encoded data removed]",
      "text/plain": [
       "<Figure size 432x288 with 1 Axes>"
      ]
     },
     "metadata": {
      "needs_background": "light"
     },
     "output_type": "display_data"
    }
   ],
   "source": [
    "#Visualize another example\n",
    "plt.imshow(X[100])"
   ]
  },
  {
   "cell_type": "markdown",
   "metadata": {},
   "source": [
    "## Split the Data Into Train And Test Sets <a acnhor = \"anchor\" id = \"7.2\"> </a>"
   ]
  },
  {
   "cell_type": "code",
   "execution_count": 95,
   "metadata": {},
   "outputs": [],
   "source": [
    "#Rorder the data \n",
    "random.shuffle(X)\n",
    "random.shuffle(Y)\n",
    "\n",
    "#define the size of the training set \n",
    "train_size = int(X.shape[0] * 0.8)\n",
    "\n",
    "#Split the data into 80%  train set and 20% test set\n",
    "train_X = X[: train_size ] \n",
    "train_Y = Y[: train_size]\n",
    "test_X  = X[train_size: ]\n",
    "test_Y =  Y[train_size: ]"
   ]
  },
  {
   "cell_type": "code",
   "execution_count": 96,
   "metadata": {},
   "outputs": [
    {
     "name": "stdout",
     "output_type": "stream",
     "text": [
      "The shape of train_X: (6400, 64, 64, 3)\n",
      "The shape of train_Y: (6400,)\n",
      "The shape of test_X: (1600, 64, 64, 3)\n",
      "The shape of the test_Y: (1600,)\n"
     ]
    }
   ],
   "source": [
    "print(f\"The shape of train_X: {train_X.shape}\\nThe shape of train_Y: {train_Y.shape}\\nThe shape of test_X: {test_X.shape}\\nThe shape of the test_Y: {test_Y.shape}\")"
   ]
  },
  {
   "cell_type": "code",
   "execution_count": 97,
   "metadata": {},
   "outputs": [],
   "source": [
    "#flatten the data so we can feed them to our neural network model \n",
    "train_X_flatten = train_X.reshape(train_X.shape[0], -1).T\n",
    "test_X_flatten = test_X.reshape(test_X.shape[0], -1).T"
   ]
  },
  {
   "cell_type": "code",
   "execution_count": 98,
   "metadata": {},
   "outputs": [],
   "source": [
    "# Standardize data to have feature values between 0 and 1.\n",
    "train_X = train_X_flatten /255\n",
    "test_X = test_X_flatten /255"
   ]
  },
  {
   "cell_type": "code",
   "execution_count": 99,
   "metadata": {},
   "outputs": [
    {
     "name": "stdout",
     "output_type": "stream",
     "text": [
      "The shape of train_X: (12288, 6400)\n",
      "The shape of test_X: (12288, 1600)\n"
     ]
    }
   ],
   "source": [
    "print(f\"The shape of train_X: {train_X.shape}\\nThe shape of test_X: {test_X.shape}\")"
   ]
  },
  {
   "cell_type": "code",
   "execution_count": 120,
   "metadata": {},
   "outputs": [
    {
     "name": "stdout",
     "output_type": "stream",
     "text": [
      "The shape of train_Y: (1, 6400)\n",
      "The shape of test_Y: (1, 1600)\n"
     ]
    }
   ],
   "source": [
    "#Reshape train_Y, test_Y to be row vectors \n",
    "train_Y = train_Y.reshape(1,train_Y.shape[0])\n",
    "test_Y = test_Y.reshape(1, test_Y.shape[0])\n",
    "\n",
    "print(f\"The shape of train_Y: {train_Y.shape}\\nThe shape of test_Y: {test_Y.shape}\")"
   ]
  },
  {
   "cell_type": "markdown",
   "metadata": {},
   "source": [
    "<br> \n",
    "\n",
    "## Architecture of The Model  <a anchor = \"anchor\" id = \"7.3\"> </a>\n",
    "\n",
    "<br>\n",
    "\n",
    "### 2-Layer Neural Network <a anchor = \"anchor\" id = \"7.31\"> </a>"
   ]
  },
  {
   "cell_type": "code",
   "execution_count": 121,
   "metadata": {},
   "outputs": [],
   "source": [
    "#define some constants needed to construct the model \n",
    "n_x = 12288 #number of units in the input layer\n",
    "n_h = 7     #number of units in the hidden layer\n",
    "n_y = 1     #number of units in the output layer\n",
    "layers_dims = (n_x, n_h, n_y)"
   ]
  },
  {
   "cell_type": "code",
   "execution_count": 302,
   "metadata": {},
   "outputs": [],
   "source": [
    "def two_layer_model(X, Y, layers_dims, learning_rate = 0.0075, num_iterations = 3000, print_cost = False):\n",
    "    '''\n",
    "    Usage:\n",
    "      #two_layer_model --> used to construct two layer model \n",
    "  \n",
    "    \n",
    "    Arguments:\n",
    "      #X --> input data, of shape (n_x, number of examples)\n",
    "      #Y --> true \"label\" vector (containing 0 if cat, 1 if non-cat), of shape (1, number of examples)\n",
    "      #layers_dims --> dimensions of the layers (n_x, n_h, n_y)\n",
    "      #num_iterations --> number of iterations of the optimization loop\n",
    "      #learning_rate --> learning rate of the gradient descent update rule\n",
    "      #print_cost --> If set to True, this will print the cost every 100 iterations \n",
    "\n",
    "    \n",
    "    Returns:\n",
    "      #parameters --> a dictionary containing W1, W2, b1, and b2\n",
    "          1. Initialize parameters / Define hyperparameters\n",
    "2. Loop for num_iterations:\n",
    "    a. Forward propagation\n",
    "    b. Compute cost function\n",
    "    c. Backward propagation\n",
    "    d. Update parameters (using parameters, and grads from backprop) \n",
    "4. Use trained parameters to predict labels\n",
    "      \n",
    "    '''\n",
    "\n",
    "\n",
    "    #initialize some variables will be populated later \n",
    "    np.random.seed(1)\n",
    "    grads = {}\n",
    "    costs = []\n",
    "    m = X.shape[1]\n",
    "    (n_x, n_h, n_y) = layers_dims\n",
    "    \n",
    "    #1. Initialize parameters / Define hyperparameters\n",
    "    parameters = initialize_parameters(n_x,n_h,n_y)\n",
    "    \n",
    "    #Get the parameters from the intialized dicationary , parameters\n",
    "    W1 = parameters[\"W1\"]\n",
    "    b1 = parameters[\"b1\"]\n",
    "    W2 = parameters[\"W2\"]\n",
    "    b2 = parameters[\"b2\"]\n",
    "    \n",
    "    \n",
    "    #2. Loop for num_iterations:\n",
    "    for i in range(0, num_iterations):\n",
    "        \n",
    "        #a. Forward propagation\n",
    "        A1, cache1 = linear_activation_forward(X, W1, b1, activation='relu')\n",
    "        A2, cache2 = linear_activation_forward(A1, W2, b2, activation='sigmoid')\n",
    "        \n",
    "        #b. Compute cost function\n",
    "        cost = compute_cost(A2, Y)\n",
    "        \n",
    "        #c. Backward propagation\n",
    "        dA2 = - (np.divide(Y, A2) - np.divide(1 - Y, 1 - A2))\n",
    "        dA1, dW2, db2 = linear_activation_backward(dA2, cache2, activation = \"sigmoid\")\n",
    "        dA0, dW1, db1 = linear_activation_backward(dA1, cache1, activation = \"relu\")\n",
    "        \n",
    "        #Populate grads dic \n",
    "        grads[\"dW1\"] = dW1\n",
    "        grads[\"db1\"] = db1 \n",
    "        grads[\"dW2\"] = dW2\n",
    "        grads[\"db2\"] = db2\n",
    "        \n",
    "        #d. Update parameters \n",
    "        parameters = update_parameters(parameters, grads, learning_rate)\n",
    "        \n",
    "        #4. Get the new parameters form paramters dic \n",
    "        W1  = parameters[\"W1\"]\n",
    "        b1 = parameters[\"b1\"]\n",
    "        W2 = parameters[\"W2\"]\n",
    "        b2 = parameters[\"b2\"]\n",
    "        \n",
    "        #Print the cost every 100 examples \n",
    "        if print_cost and i % 100 == 0:\n",
    "            print(\"Cost after iteration {}: {}\".format(i, np.squeeze(cost)))\n",
    "            costs.append(cost)\n",
    "        \n",
    "        \n",
    "    #Plot the cost \n",
    "    plt.plot(np.squeeze(costs))\n",
    "    plt.ylabel(\"cost\")\n",
    "    plt.xlabel(\"number of iterations\")\n",
    "    plt.title(f\"learning rate = {learning_rate}\")\n",
    "    plt.show()\n",
    "    \n",
    "    \n",
    "    return parameters"
   ]
  },
  {
   "cell_type": "markdown",
   "metadata": {},
   "source": [
    "### L-Layer Neural Network <a anchor = \"anchor\" id = \"7.32\"> </a>"
   ]
  },
  {
   "cell_type": "code",
   "execution_count": 292,
   "metadata": {},
   "outputs": [],
   "source": [
    "def L_layer_model(X, Y, layers_dims, learning_rate = 0.0075, num_iterations = 3000, print_cost=False):\n",
    "    '''\n",
    "    Usage:\n",
    "      #L_layer_model --> used to construct L-Layer Model\n",
    "  \n",
    "    \n",
    "    Arguments:\n",
    "      #X --> input data, of shape (n_x, number of examples)\n",
    "      #Y --> true \"label\" vector (containing 0 if cat, 1 if non-cat), of shape (1, number of examples)\n",
    "      #layers_dims --> list containing the input size and each layer size, of length (number of layers + 1).\n",
    "      #num_iterations --> number of iterations of the optimization loop\n",
    "      #learning_rate --> learning rate of the gradient descent update rule\n",
    "      #print_cost --> If set to True, this will print the cost every 100 iterations \n",
    "\n",
    "    \n",
    "    Returns:\n",
    "      #parameters --> a dictionary containing W1, W2, b1, and b2\n",
    "      \n",
    "    '''\n",
    "    \n",
    "    \n",
    "    np.random.seed(1)\n",
    "    \n",
    "    costs = []\n",
    "    \n",
    "    #1. Initialize parameters / Define hyperparameters\n",
    "    parameters = initialize_parameters_deep(layers_dims)\n",
    "    \n",
    "    #2. Loop for num_iterations:\n",
    "    for i in range(0, num_iterations):\n",
    "        \n",
    "        #a. Forward propagation\n",
    "        AL, caches = L_model_forward(X, parameters)\n",
    "        \n",
    "        #b. Compute cost function\n",
    "        cost = compute_cost(AL, Y)\n",
    "        \n",
    "        #c. Backward propagation\n",
    "        grads =  L_model_backward(AL, Y, caches)\n",
    "        \n",
    "        #d. Update parameters\n",
    "        parameters = update_parameters(parameters, grads, learning_rate)\n",
    "        \n",
    "        # Print the cost every 100 training example\n",
    "        if print_cost and i % 100 == 0:\n",
    "            print (\"Cost after iteration %i: %f\" %(i, cost))\n",
    "        if print_cost and i % 100 == 0:\n",
    "            costs.append(cost)\n",
    "            \n",
    "    # plot the cost\n",
    "    plt.plot(np.squeeze(costs))\n",
    "    plt.ylabel('cost')\n",
    "    plt.xlabel('iterations (per tens)')\n",
    "    plt.title(\"Learning rate =\" + str(learning_rate))\n",
    "    plt.show()\n",
    "    \n",
    "    return parameters"
   ]
  },
  {
   "cell_type": "markdown",
   "metadata": {},
   "source": [
    "## Updating The Parameters <a anchor = \"anchor\" id = \"8\"> </a>"
   ]
  },
  {
   "cell_type": "code",
   "execution_count": 293,
   "metadata": {},
   "outputs": [
    {
     "name": "stdout",
     "output_type": "stream",
     "text": [
      "Cost after iteration 0: 0.693173\n",
      "Cost after iteration 100: 0.693127\n",
      "Cost after iteration 200: 0.693103\n",
      "Cost after iteration 300: 0.693087\n",
      "Cost after iteration 400: 0.693071\n",
      "Cost after iteration 500: 0.693055\n",
      "Cost after iteration 600: 0.693036\n",
      "Cost after iteration 700: 0.693013\n",
      "Cost after iteration 800: 0.692983\n",
      "Cost after iteration 900: 0.692944\n",
      "Cost after iteration 1000: 0.692894\n",
      "Cost after iteration 1100: 0.692829\n",
      "Cost after iteration 1200: 0.692745\n",
      "Cost after iteration 1300: 0.692639\n",
      "Cost after iteration 1400: 0.692510\n",
      "Cost after iteration 1500: 0.692355\n",
      "Cost after iteration 1600: 0.692172\n",
      "Cost after iteration 1700: 0.691959\n",
      "Cost after iteration 1800: 0.691718\n",
      "Cost after iteration 1900: 0.691453\n",
      "Cost after iteration 2000: 0.691166\n",
      "Cost after iteration 2100: 0.690862\n",
      "Cost after iteration 2200: 0.690542\n",
      "Cost after iteration 2300: 0.690210\n",
      "Cost after iteration 2400: 0.689864\n"
     ]
    },
    {
     "data": {
      "image/png": "[encoded data removed]",
      "text/plain": [
       "<Figure size 432x288 with 1 Axes>"
      ]
     },
     "metadata": {
      "needs_background": "light"
     },
     "output_type": "display_data"
    }
   ],
   "source": [
    "#Updating using L-layer model \n",
    "parameters = L_layer_model(train_X, train_Y, layers_dims, num_iterations = 2500, print_cost = True)"
   ]
  },
  {
   "cell_type": "code",
   "execution_count": 303,
   "metadata": {},
   "outputs": [
    {
     "name": "stdout",
     "output_type": "stream",
     "text": [
      "Cost after iteration 0: 0.6931466185441809\n",
      "Cost after iteration 100: 0.6931346282195124\n",
      "Cost after iteration 200: 0.6931262175570102\n",
      "Cost after iteration 300: 0.6931200466848827\n",
      "Cost after iteration 400: 0.6931152278775053\n",
      "Cost after iteration 500: 0.6931111154295272\n",
      "Cost after iteration 600: 0.6931069721017076\n",
      "Cost after iteration 700: 0.693102318276958\n",
      "Cost after iteration 800: 0.693096967075716\n",
      "Cost after iteration 900: 0.6930902461075581\n",
      "Cost after iteration 1000: 0.6930816652060476\n",
      "Cost after iteration 1100: 0.6930704755309737\n",
      "Cost after iteration 1200: 0.6930557473019582\n",
      "Cost after iteration 1300: 0.6930362652684329\n",
      "Cost after iteration 1400: 0.6930106484159012\n",
      "Cost after iteration 1500: 0.6929771817736541\n",
      "Cost after iteration 1600: 0.6929336956394806\n",
      "Cost after iteration 1700: 0.6928778345120196\n",
      "Cost after iteration 1800: 0.6928067116521899\n",
      "Cost after iteration 1900: 0.6927169395314293\n",
      "Cost after iteration 2000: 0.6926059798536699\n",
      "Cost after iteration 2100: 0.6924710875558253\n",
      "Cost after iteration 2200: 0.6923102782372773\n",
      "Cost after iteration 2300: 0.692122785888319\n",
      "Cost after iteration 2400: 0.6919102409485887\n"
     ]
    },
    {
     "data": {
      "image/png": "[encoded data removed]",
      "text/plain": [
       "<Figure size 432x288 with 1 Axes>"
      ]
     },
     "metadata": {
      "needs_background": "light"
     },
     "output_type": "display_data"
    }
   ],
   "source": [
    "#Updating using 2-layer model\n",
    "parameters2 = two_layer_model(train_X, train_Y, layers_dims = (n_x, n_h, n_y), num_iterations = 2500, print_cost=True)"
   ]
  },
  {
   "cell_type": "markdown",
   "metadata": {},
   "source": [
    "## Computing The Accuracy  <a anchor = \"anchor\" id = \"9\"> </a>"
   ]
  },
  {
   "cell_type": "code",
   "execution_count": 307,
   "metadata": {},
   "outputs": [
    {
     "name": "stdout",
     "output_type": "stream",
     "text": [
      "Accuracy: 0.53296875\n"
     ]
    }
   ],
   "source": [
    "predictions_train = predict(train_X, train_Y, parameters)"
   ]
  },
  {
   "cell_type": "code",
   "execution_count": 312,
   "metadata": {},
   "outputs": [
    {
     "name": "stdout",
     "output_type": "stream",
     "text": [
      "Accuracy: 0.508125\n"
     ]
    }
   ],
   "source": [
    "predictions_test = predict(test_X, test_Y, parameters)"
   ]
  },
  {
   "cell_type": "markdown",
   "metadata": {},
   "source": [
    "# Congratulations!"
   ]
  }
 ],
 "metadata": {
  "kernelspec": {
   "display_name": "Python 3",
   "language": "python",
   "name": "python3"
  }
 },
 "nbformat": 4,
 "nbformat_minor": 4
}
